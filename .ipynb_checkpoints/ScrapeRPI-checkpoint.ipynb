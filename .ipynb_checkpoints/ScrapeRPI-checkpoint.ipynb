{
 "cells": [
  {
   "cell_type": "code",
   "execution_count": 12,
   "metadata": {},
   "outputs": [],
   "source": [
    "import requests\n",
    "import pandas as pd\n",
    "from bs4 import BeautifulSoup"
   ]
  },
  {
   "cell_type": "code",
   "execution_count": 13,
   "metadata": {},
   "outputs": [],
   "source": [
    "men_url = 'http://www.warrennolan.com/basketball/2020/rpi-live'\n",
    "women_url = 'http://www.warrennolan.com/basketballw/2020/rpi-live'"
   ]
  },
  {
   "cell_type": "code",
   "execution_count": 14,
   "metadata": {},
   "outputs": [],
   "source": [
    "def request_data(url):\n",
    "    page = requests.get(url)\n",
    "    soup = BeautifulSoup(page.text, 'html.parser')\n",
    "    \n",
    "    return soup\n",
    "\n",
    "m_soup = request_data(men_url)\n",
    "w_soup = request_data(women_url)"
   ]
  },
  {
   "cell_type": "code",
   "execution_count": 15,
   "metadata": {},
   "outputs": [],
   "source": [
    "def get_team_names(soup):\n",
    "    \n",
    "    team_lst = []\n",
    "    \n",
    "    team_data = soup.find_all(class_='data') \n",
    "    \n",
    "    for team in team_data:\n",
    "        team_lst.append(team.contents[0])\n",
    "    \n",
    "    return team_lst\n",
    "\n",
    "m_team_names = get_team_names(m_soup)\n",
    "w_team_names = get_team_names(w_soup)"
   ]
  },
  {
   "cell_type": "code",
   "execution_count": 16,
   "metadata": {},
   "outputs": [],
   "source": [
    "def get_rank_data(soup):\n",
    "    \n",
    "    rpi_lst = []\n",
    "    sos_lst = []\n",
    "\n",
    "    rank_tags = soup.find_all('tr')\n",
    "\n",
    "    for team in rank_tags:\n",
    "        rpi_classes = team.find_all(class_ = 'centerdata cell-bottom-normal cell-right-normal')\n",
    "        sos_classes = team.find_all(class_ = 'centerdata cell-bottom-normal cell-right-black')\n",
    "\n",
    "        for i, v in enumerate(rpi_classes):\n",
    "            if i == 2:\n",
    "                rpi_lst.append(int(v.contents[0]))\n",
    "\n",
    "        for i, v in enumerate(sos_classes):\n",
    "            if i == 0:\n",
    "                sos_lst.append(int(v.contents[0]))\n",
    "                \n",
    "    return rpi_lst, sos_lst\n",
    "\n",
    "m_rpi_data = get_rank_data(m_soup)[0]\n",
    "m_sos_data = get_rank_data(m_soup)[1]\n",
    "\n",
    "w_rpi_data = get_rank_data(w_soup)[0]\n",
    "w_sos_data = get_rank_data(w_soup)[1]"
   ]
  },
  {
   "cell_type": "code",
   "execution_count": 21,
   "metadata": {
    "scrolled": false
   },
   "outputs": [],
   "source": [
    "def combine_write_df(names, rpi, sos, gender):\n",
    "\n",
    "    df = pd.DataFrame({'team': names,\n",
    "                 'rpi': rpi,\n",
    "                 'sos': sos})\n",
    "\n",
    "    df.to_csv('{}_ranks2020.csv'.format(gender, index=False))\n",
    "    \n",
    "    return df\n",
    "\n",
    "men_df = combine_write_df(m_team_names, m_rpi_data, m_sos_data, 'm')\n",
    "women_df = mens_df = combine_write_df(w_team_names, w_rpi_data, w_sos_data, 'w')"
   ]
  },
  {
   "cell_type": "code",
   "execution_count": null,
   "metadata": {},
   "outputs": [],
   "source": []
  }
 ],
 "metadata": {
  "kernelspec": {
   "display_name": "Python 3",
   "language": "python",
   "name": "python3"
  },
  "language_info": {
   "codemirror_mode": {
    "name": "ipython",
    "version": 3
   },
   "file_extension": ".py",
   "mimetype": "text/x-python",
   "name": "python",
   "nbconvert_exporter": "python",
   "pygments_lexer": "ipython3",
   "version": "3.6.0"
  }
 },
 "nbformat": 4,
 "nbformat_minor": 4
}
