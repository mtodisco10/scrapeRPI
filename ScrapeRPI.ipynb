{
 "cells": [
  {
   "cell_type": "code",
   "execution_count": 28,
   "metadata": {},
   "outputs": [],
   "source": [
    "import requests\n",
    "import pandas as pd\n",
    "from bs4 import BeautifulSoup"
   ]
  },
  {
   "cell_type": "code",
   "execution_count": 29,
   "metadata": {},
   "outputs": [],
   "source": [
    "men_url = 'http://www.warrennolan.com/basketball/2020/rpi-live'\n",
    "women_url = 'http://www.warrennolan.com/basketballw/2020/rpi-live'"
   ]
  },
  {
   "cell_type": "code",
   "execution_count": 30,
   "metadata": {},
   "outputs": [],
   "source": [
    "def request_data(url):\n",
    "    page = requests.get(url)\n",
    "    soup = BeautifulSoup(page.text, 'html.parser')\n",
    "    \n",
    "    return soup\n",
    "\n",
    "soup = request_data(women_url)"
   ]
  },
  {
   "cell_type": "code",
   "execution_count": 31,
   "metadata": {},
   "outputs": [],
   "source": [
    "def get_team_names(soup):\n",
    "    \n",
    "    team_lst = []\n",
    "    \n",
    "    team_data = soup.find_all(class_='data') \n",
    "    \n",
    "    for team in team_data:\n",
    "        team_lst.append(team.contents[0])\n",
    "    \n",
    "    return team_lst\n",
    "\n",
    "team_names = get_team_names(soup)"
   ]
  },
  {
   "cell_type": "code",
   "execution_count": 32,
   "metadata": {},
   "outputs": [],
   "source": [
    "def get_rank_data(soup):\n",
    "    \n",
    "    rpi_lst = []\n",
    "    sos_lst = []\n",
    "\n",
    "    rank_tags = soup.find_all('tr')\n",
    "\n",
    "    for team in rank_tags:\n",
    "        rpi_classes = team.find_all(class_ = 'centerdata cell-bottom-normal cell-right-normal')\n",
    "        sos_classes = team.find_all(class_ = 'centerdata cell-bottom-normal cell-right-black')\n",
    "\n",
    "        for i, v in enumerate(rpi_classes):\n",
    "            if i == 2:\n",
    "                rpi_lst.append(int(v.contents[0]))\n",
    "\n",
    "        for i, v in enumerate(sos_classes):\n",
    "            if i == 0:\n",
    "                sos_lst.append(int(v.contents[0]))\n",
    "                \n",
    "    return rpi_lst, sos_lst\n",
    "\n",
    "rpi_data = get_rank_data(soup)[0]\n",
    "sos_data = get_rank_data(soup)[1]"
   ]
  },
  {
   "cell_type": "code",
   "execution_count": 33,
   "metadata": {
    "scrolled": false
   },
   "outputs": [],
   "source": [
    "df = pd.DataFrame({'team':team_names,\n",
    "             'rpi': rpi_data,\n",
    "             'sos': sos_data})\n",
    "\n",
    "df.to_csv('womens_rpi_ranks20.csv', index=False)"
   ]
  },
  {
   "cell_type": "code",
   "execution_count": null,
   "metadata": {},
   "outputs": [],
   "source": []
  }
 ],
 "metadata": {
  "kernelspec": {
   "display_name": "Python 3",
   "language": "python",
   "name": "python3"
  },
  "language_info": {
   "codemirror_mode": {
    "name": "ipython",
    "version": 3
   },
   "file_extension": ".py",
   "mimetype": "text/x-python",
   "name": "python",
   "nbconvert_exporter": "python",
   "pygments_lexer": "ipython3",
   "version": "3.8.0"
  }
 },
 "nbformat": 4,
 "nbformat_minor": 4
}
